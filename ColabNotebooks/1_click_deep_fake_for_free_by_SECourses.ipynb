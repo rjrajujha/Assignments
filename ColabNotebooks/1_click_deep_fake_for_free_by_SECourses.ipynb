{
  "nbformat": 4,
  "nbformat_minor": 0,
  "metadata": {
    "colab": {
      "provenance": [],
      "gpuType": "T4",
      "include_colab_link": true
    },
    "kernelspec": {
      "name": "python3",
      "display_name": "Python 3"
    },
    "language_info": {
      "name": "python"
    },
    "accelerator": "GPU"
  },
  "cells": [
    {
      "cell_type": "markdown",
      "metadata": {
        "id": "view-in-github",
        "colab_type": "text"
      },
      "source": [
        "<a href=\"https://colab.research.google.com/github/rjrajujha/Assignments/blob/main/ColabNotebooks/1_click_deep_fake_for_free_by_SECourses.ipynb\" target=\"_parent\"><img src=\"https://colab.research.google.com/assets/colab-badge.svg\" alt=\"Open In Colab\"/></a>"
      ]
    },
    {
      "cell_type": "markdown",
      "source": [
        "## Updated 12 March 2025 Working\n",
        "## Rope is better and more advanced than Roop\n",
        "## Better APP Rope Cloud : https://youtu.be/HLWLSszHwEc\n",
        "## Better APP Rope Windows : https://youtu.be/RdWKOUlenaY\n",
        "## 1-Click Installer for Roop Windows : https://www.patreon.com/posts/1-click-auto-88234834\n",
        "## 1-Click Installer for Roop RunPod : https://www.patreon.com/posts/auto-installer-84511510\n"
      ],
      "metadata": {
        "id": "G9BdiCppV6AS"
      }
    },
    {
      "cell_type": "markdown",
      "source": [
        "**If you want to use the latest version remove `!git checkout 312208a41102ba86d2454ae8efc9d3f0b786a6e7`**"
      ],
      "metadata": {
        "id": "ni6edG-8MUNg"
      }
    },
    {
      "cell_type": "markdown",
      "source": [],
      "metadata": {
        "id": "eAVNSWJVCeLc"
      }
    },
    {
      "cell_type": "code",
      "execution_count": null,
      "metadata": {
        "id": "t1yPuhdySqCq",
        "outputId": "c84096ce-f9d0-401f-9eeb-89958fa0a3b9",
        "colab": {
          "base_uri": "https://localhost:8080/"
        }
      },
      "outputs": [
        {
          "output_type": "stream",
          "name": "stdout",
          "text": [
            "Cloning into 'roop'...\n",
            "remote: Enumerating objects: 1596, done.\u001b[K\n",
            "remote: Total 1596 (delta 0), reused 0 (delta 0), pack-reused 1596 (from 1)\u001b[K\n",
            "Receiving objects: 100% (1596/1596), 97.46 MiB | 29.80 MiB/s, done.\n",
            "Resolving deltas: 100% (942/942), done.\n",
            "/content/roop\n",
            "Collecting onnxruntime-gpu==1.21.0\n",
            "  Downloading onnxruntime_gpu-1.21.0-cp311-cp311-manylinux_2_27_x86_64.manylinux_2_28_x86_64.whl.metadata (4.8 kB)\n",
            "Collecting coloredlogs (from onnxruntime-gpu==1.21.0)\n",
            "  Downloading coloredlogs-15.0.1-py2.py3-none-any.whl.metadata (12 kB)\n",
            "Requirement already satisfied: flatbuffers in /usr/local/lib/python3.11/dist-packages (from onnxruntime-gpu==1.21.0) (25.2.10)\n",
            "Requirement already satisfied: numpy>=1.21.6 in /usr/local/lib/python3.11/dist-packages (from onnxruntime-gpu==1.21.0) (2.0.2)\n",
            "Requirement already satisfied: packaging in /usr/local/lib/python3.11/dist-packages (from onnxruntime-gpu==1.21.0) (25.0)\n",
            "Requirement already satisfied: protobuf in /usr/local/lib/python3.11/dist-packages (from onnxruntime-gpu==1.21.0) (5.29.5)\n",
            "Requirement already satisfied: sympy in /usr/local/lib/python3.11/dist-packages (from onnxruntime-gpu==1.21.0) (1.13.1)\n",
            "Collecting humanfriendly>=9.1 (from coloredlogs->onnxruntime-gpu==1.21.0)\n",
            "  Downloading humanfriendly-10.0-py2.py3-none-any.whl.metadata (9.2 kB)\n",
            "Requirement already satisfied: mpmath<1.4,>=1.1.0 in /usr/local/lib/python3.11/dist-packages (from sympy->onnxruntime-gpu==1.21.0) (1.3.0)\n",
            "Downloading onnxruntime_gpu-1.21.0-cp311-cp311-manylinux_2_27_x86_64.manylinux_2_28_x86_64.whl (280.8 MB)\n",
            "\u001b[2K   \u001b[91m━━━━━━━━━━━━━━━━━━━━━━━━━━━━━━━━━━━━━━\u001b[0m\u001b[91m╸\u001b[0m \u001b[32m280.8/280.8 MB\u001b[0m \u001b[31m103.3 MB/s\u001b[0m eta \u001b[36m0:00:01\u001b[0m"
          ]
        }
      ],
      "source": [
        "!git clone https://github.com/FurkanGozukara/roop\n",
        "%cd roop\n",
        "#Tested and updated 23 August 2023 commit\n",
        "#!git checkout da1ef285f1d43bd0cc8b9cdb9a0f80f7ae793a97\n",
        "!pip install onnxruntime-gpu==1.21.0 && pip install -r requirements.txt\n",
        "!pip install onnxruntime-gpu==1.21.0 --upgrade\n",
        "!apt-get update --yes\n",
        "!apt install nvidia-cuda-toolkit --yes\n",
        "!pip install opennsfw2 keras --upgrade\n",
        "!pip install numpy==1.26.1\n",
        "\n",
        "#ignore below errors when you see\n",
        "#ERROR: pip's dependency resolver does not currently take into account all the packages that are installed. This behaviour is the source of the following dependency conflicts.\n",
        "#tensorflow 2.14.0 requires keras<2.15,>=2.14.0, but you have keras 3.9.0 which is incompatible.\n",
        "#tensorflow-text 2.18.1 requires tensorflow<2.19,>=2.18.0, but you have tensorflow 2.14.0 which is incompatible.\n",
        "#tf-keras 2.18.0 requires tensorflow<2.19,>=2.18, but you have tensorflow 2.14.0 which is incompatible."
      ]
    },
    {
      "cell_type": "code",
      "source": [
        "pip install numpy"
      ],
      "metadata": {
        "id": "bU-VP-_kqzTK",
        "outputId": "63003ed7-e666-43f2-db50-442d3ccb3cf9",
        "colab": {
          "base_uri": "https://localhost:8080/"
        }
      },
      "execution_count": null,
      "outputs": [
        {
          "output_type": "stream",
          "name": "stdout",
          "text": [
            "Requirement already satisfied: numpy in /usr/local/lib/python3.11/dist-packages (1.26.1)\n"
          ]
        }
      ]
    },
    {
      "cell_type": "markdown",
      "source": [
        "**You will see processing message at the end of below printed messages e.g. Processing:  43% 136/318 00:38<00:24, 7.47frame/s**\n",
        "\n",
        "**Make sure to upload root roop folder not inside the sub roop folder and don't forget to change image and video file names**\n",
        "\n",
        "**1 is best quality big video size, 100 worst quality low video size**"
      ],
      "metadata": {
        "id": "Jul-_i9xMmV2"
      }
    },
    {
      "cell_type": "code",
      "source": [
        "%cd \"/content/roop\"\n",
        "!python run.py -s \"face2.png\" -t \"test_video.mp4\" -o \"face_changed_video_v2.mp4\" --keep-frames --keep-fps --temp-frame-quality 1 --output-video-quality 1 --execution-provider cuda"
      ],
      "metadata": {
        "id": "Is6U2huqSzLE",
        "outputId": "933c940c-e133-44fe-e7d4-30d65fb93906",
        "colab": {
          "base_uri": "https://localhost:8080/"
        }
      },
      "execution_count": null,
      "outputs": [
        {
          "output_type": "stream",
          "name": "stdout",
          "text": [
            "/content/roop\n",
            "2025-07-28 10:54:33.938385: E external/local_xla/xla/stream_executor/cuda/cuda_fft.cc:477] Unable to register cuFFT factory: Attempting to register factory for plugin cuFFT when one has already been registered\n",
            "WARNING: All log messages before absl::InitializeLog() is called are written to STDERR\n",
            "E0000 00:00:1753700073.970510    8641 cuda_dnn.cc:8310] Unable to register cuDNN factory: Attempting to register factory for plugin cuDNN when one has already been registered\n",
            "E0000 00:00:1753700073.980438    8641 cuda_blas.cc:1418] Unable to register cuBLAS factory: Attempting to register factory for plugin cuBLAS when one has already been registered\n",
            "Traceback (most recent call last):\n",
            "  File \"/content/roop/run.py\", line 3, in <module>\n",
            "    from roop import core\n",
            "  File \"/content/roop/roop/core.py\", line 20, in <module>\n",
            "    import roop.ui as ui\n",
            "  File \"/content/roop/roop/ui.py\", line 4, in <module>\n",
            "    import customtkinter as ctk\n",
            "ModuleNotFoundError: No module named 'customtkinter'\n"
          ]
        }
      ]
    },
    {
      "cell_type": "markdown",
      "source": [
        "**Below code will do also face restoration to improve quality significantly but it will take longer**"
      ],
      "metadata": {
        "id": "VJpNWHq1qdjT"
      }
    },
    {
      "cell_type": "code",
      "source": [
        "%cd \"/content/roop\"\n",
        "!python run.py -s \"face2.png\" -t \"video3.mp4\" -o \"face_restored_video3.mp4\" --keep-frames --keep-fps --temp-frame-quality 1 --output-video-quality 1 --execution-provider cuda --frame-processor face_swapper face_enhancer"
      ],
      "metadata": {
        "id": "_j18G_uPqc37"
      },
      "execution_count": null,
      "outputs": []
    },
    {
      "cell_type": "markdown",
      "source": [
        "### All options are displayed below\n",
        "Append any of them to the above commands before executing\n",
        "```\n",
        "python run.py [options]\n",
        "\n",
        "-h, --help                                                                 show this help message and exit\n",
        "-s SOURCE_PATH, --source SOURCE_PATH                                       select an source image\n",
        "-t TARGET_PATH, --target TARGET_PATH                                       select an target image or video\n",
        "-o OUTPUT_PATH, --output OUTPUT_PATH                                       select output file or directory\n",
        "--frame-processor FRAME_PROCESSOR [FRAME_PROCESSOR ...]                    frame processors (choices: face_swapper, face_enhancer, ...)\n",
        "--keep-fps                                                                 keep target fps\n",
        "--keep-frames                                                              keep temporary frames\n",
        "--skip-audio                                                               skip target audio\n",
        "--many-faces                                                               process every face\n",
        "--reference-face-position REFERENCE_FACE_POSITION                          position of the reference face\n",
        "--reference-frame-number REFERENCE_FRAME_NUMBER                            number of the reference frame\n",
        "--similar-face-distance SIMILAR_FACE_DISTANCE                              face distance used for recognition\n",
        "--temp-frame-format {jpg,png}                                              image format used for frame extraction\n",
        "--temp-frame-quality [0-100]                                               image quality used for frame extraction\n",
        "--output-video-encoder {libx264,libx265,libvpx-vp9,h264_nvenc,hevc_nvenc}  encoder used for the output video\n",
        "--output-video-quality [0-100]                                             quality used for the output video\n",
        "--max-memory MAX_MEMORY                                                    maximum amount of RAM in GB\n",
        "--execution-provider {cpu} [{cpu} ...]                                     available execution provider (choices: cpu, ...)\n",
        "--execution-threads EXECUTION_THREADS                                      number of execution threads\n",
        "-v, --version                                                              show program's version number and exit\n",
        "  ```"
      ],
      "metadata": {
        "id": "jr-63BTn8UEs"
      }
    },
    {
      "cell_type": "markdown",
      "source": [
        "### Download generated images folder"
      ],
      "metadata": {
        "id": "UdQ1VHdI8lCf"
      }
    },
    {
      "cell_type": "code",
      "source": [
        "import shutil\n",
        "import os\n",
        "from google.colab import files\n",
        "\n",
        "def zip_directory(directory_path, zip_path):\n",
        "    shutil.make_archive(zip_path, 'zip', directory_path)\n",
        "\n",
        "# Set the directory path you want to download\n",
        "directory_path = '/content/roop/video3'\n",
        "\n",
        "# Set the zip file name\n",
        "zip_filename = 'video3.zip'\n",
        "\n",
        "# Zip the directory\n",
        "zip_directory(directory_path, zip_filename)\n",
        "\n",
        "# Download the zip file\n",
        "files.download(zip_filename+'.zip')\n"
      ],
      "metadata": {
        "id": "oYjWveAmw10X"
      },
      "execution_count": null,
      "outputs": []
    },
    {
      "cell_type": "markdown",
      "source": [
        "# below is last working pip freeze of libraries 6 June 2024"
      ],
      "metadata": {
        "id": "Q_agL2FE0fJP"
      }
    },
    {
      "cell_type": "code",
      "source": [
        "!pip freeze"
      ],
      "metadata": {
        "id": "sa3pcyqo0b8f"
      },
      "execution_count": null,
      "outputs": []
    }
  ]
}